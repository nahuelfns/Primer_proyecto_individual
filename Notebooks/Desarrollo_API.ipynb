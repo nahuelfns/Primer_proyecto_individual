{
 "cells": [
  {
   "cell_type": "code",
   "execution_count": 1,
   "metadata": {},
   "outputs": [],
   "source": [
    "import pandas as pd"
   ]
  },
  {
   "cell_type": "code",
   "execution_count": 3,
   "metadata": {},
   "outputs": [],
   "source": [
    "#Al querer leer el archivo me aparece lo siguiente: DtypeWarning: Columns (1,4) have mixed types. Specify dtype option on import or set low_memory=False.\n",
    "#Esto aparece cuando pandas detecta que las columnas en cuestión contienen diferentes tipos de datos. Esto puede suceder cuando algunas filas tienen\n",
    "#valores numéricos mientras que otras tienen cadenas de texto, por ejemplo.\n",
    "\n",
    "df = pd.read_csv(r'C:\\Users\\nahue\\Searches\\Escritorio\\CARRERA HENRY\\PPI\\Movies\\movies_dataset_transf.csv',low_memory=False)\n",
    "\n",
    "#Por eso uso r antes de la ruta del archivo y el low_memory=False para que que pandas lea el archivo en fragmentos más grandes, lo que a veces puede\n",
    "#ayudar a pandas a inferir el tipo de datos correcto aunque puede consumir más memoria."
   ]
  },
  {
   "cell_type": "code",
   "execution_count": 4,
   "metadata": {},
   "outputs": [
    {
     "data": {
      "text/html": [
       "<div>\n",
       "<style scoped>\n",
       "    .dataframe tbody tr th:only-of-type {\n",
       "        vertical-align: middle;\n",
       "    }\n",
       "\n",
       "    .dataframe tbody tr th {\n",
       "        vertical-align: top;\n",
       "    }\n",
       "\n",
       "    .dataframe thead th {\n",
       "        text-align: right;\n",
       "    }\n",
       "</style>\n",
       "<table border=\"1\" class=\"dataframe\">\n",
       "  <thead>\n",
       "    <tr style=\"text-align: right;\">\n",
       "      <th></th>\n",
       "      <th>budget</th>\n",
       "      <th>genres</th>\n",
       "      <th>id</th>\n",
       "      <th>original_language</th>\n",
       "      <th>overview</th>\n",
       "      <th>popularity</th>\n",
       "      <th>production_companies</th>\n",
       "      <th>production_countries</th>\n",
       "      <th>release_date</th>\n",
       "      <th>revenue</th>\n",
       "      <th>...</th>\n",
       "      <th>spoken_languages</th>\n",
       "      <th>status</th>\n",
       "      <th>tagline</th>\n",
       "      <th>title</th>\n",
       "      <th>vote_average</th>\n",
       "      <th>vote_count</th>\n",
       "      <th>id_movie</th>\n",
       "      <th>movie_name</th>\n",
       "      <th>release_year</th>\n",
       "      <th>return</th>\n",
       "    </tr>\n",
       "  </thead>\n",
       "  <tbody>\n",
       "    <tr>\n",
       "      <th>0</th>\n",
       "      <td>30000000.0</td>\n",
       "      <td>[{'id': 16, 'name': 'Animation'}, {'id': 35, '...</td>\n",
       "      <td>862</td>\n",
       "      <td>en</td>\n",
       "      <td>Led by Woody, Andy's toys live happily in his ...</td>\n",
       "      <td>21.946943</td>\n",
       "      <td>[{'name': 'Pixar Animation Studios', 'id': 3}]</td>\n",
       "      <td>[{'iso_3166_1': 'US', 'name': 'United States o...</td>\n",
       "      <td>1995-10-30</td>\n",
       "      <td>373554033.0</td>\n",
       "      <td>...</td>\n",
       "      <td>[{'iso_639_1': 'en', 'name': 'English'}]</td>\n",
       "      <td>Released</td>\n",
       "      <td>NaN</td>\n",
       "      <td>Toy Story</td>\n",
       "      <td>7.7</td>\n",
       "      <td>5415.0</td>\n",
       "      <td>10194</td>\n",
       "      <td>Toy Story Collection</td>\n",
       "      <td>1995.0</td>\n",
       "      <td>12.451801</td>\n",
       "    </tr>\n",
       "    <tr>\n",
       "      <th>1</th>\n",
       "      <td>65000000.0</td>\n",
       "      <td>[{'id': 12, 'name': 'Adventure'}, {'id': 14, '...</td>\n",
       "      <td>8844</td>\n",
       "      <td>en</td>\n",
       "      <td>When siblings Judy and Peter discover an encha...</td>\n",
       "      <td>17.015539</td>\n",
       "      <td>[{'name': 'TriStar Pictures', 'id': 559}, {'na...</td>\n",
       "      <td>[{'iso_3166_1': 'US', 'name': 'United States o...</td>\n",
       "      <td>1995-12-15</td>\n",
       "      <td>262797249.0</td>\n",
       "      <td>...</td>\n",
       "      <td>[{'iso_639_1': 'en', 'name': 'English'}, {'iso...</td>\n",
       "      <td>Released</td>\n",
       "      <td>Roll the dice and unleash the excitement!</td>\n",
       "      <td>Jumanji</td>\n",
       "      <td>6.9</td>\n",
       "      <td>2413.0</td>\n",
       "      <td>0</td>\n",
       "      <td>NaN</td>\n",
       "      <td>1995.0</td>\n",
       "      <td>4.043035</td>\n",
       "    </tr>\n",
       "  </tbody>\n",
       "</table>\n",
       "<p>2 rows × 21 columns</p>\n",
       "</div>"
      ],
      "text/plain": [
       "       budget                                             genres    id  \\\n",
       "0  30000000.0  [{'id': 16, 'name': 'Animation'}, {'id': 35, '...   862   \n",
       "1  65000000.0  [{'id': 12, 'name': 'Adventure'}, {'id': 14, '...  8844   \n",
       "\n",
       "  original_language                                           overview  \\\n",
       "0                en  Led by Woody, Andy's toys live happily in his ...   \n",
       "1                en  When siblings Judy and Peter discover an encha...   \n",
       "\n",
       "   popularity                               production_companies  \\\n",
       "0   21.946943     [{'name': 'Pixar Animation Studios', 'id': 3}]   \n",
       "1   17.015539  [{'name': 'TriStar Pictures', 'id': 559}, {'na...   \n",
       "\n",
       "                                production_countries release_date  \\\n",
       "0  [{'iso_3166_1': 'US', 'name': 'United States o...   1995-10-30   \n",
       "1  [{'iso_3166_1': 'US', 'name': 'United States o...   1995-12-15   \n",
       "\n",
       "       revenue  ...                                   spoken_languages  \\\n",
       "0  373554033.0  ...           [{'iso_639_1': 'en', 'name': 'English'}]   \n",
       "1  262797249.0  ...  [{'iso_639_1': 'en', 'name': 'English'}, {'iso...   \n",
       "\n",
       "     status                                    tagline      title  \\\n",
       "0  Released                                        NaN  Toy Story   \n",
       "1  Released  Roll the dice and unleash the excitement!    Jumanji   \n",
       "\n",
       "  vote_average  vote_count  id_movie            movie_name release_year  \\\n",
       "0          7.7      5415.0     10194  Toy Story Collection       1995.0   \n",
       "1          6.9      2413.0         0                   NaN       1995.0   \n",
       "\n",
       "      return  \n",
       "0  12.451801  \n",
       "1   4.043035  \n",
       "\n",
       "[2 rows x 21 columns]"
      ]
     },
     "execution_count": 4,
     "metadata": {},
     "output_type": "execute_result"
    }
   ],
   "source": [
    "df.head(2)"
   ]
  },
  {
   "cell_type": "code",
   "execution_count": 5,
   "metadata": {},
   "outputs": [
    {
     "data": {
      "text/plain": [
       "(2000, 21)"
      ]
     },
     "execution_count": 5,
     "metadata": {},
     "output_type": "execute_result"
    }
   ],
   "source": [
    "df.shape"
   ]
  },
  {
   "cell_type": "markdown",
   "metadata": {},
   "source": [
    "# FUNCIONES"
   ]
  },
  {
   "cell_type": "markdown",
   "metadata": {},
   "source": [
    "### Cantidad de películas estrenadas en un mes seleccionado"
   ]
  },
  {
   "cell_type": "code",
   "execution_count": 8,
   "metadata": {},
   "outputs": [],
   "source": [
    "#Se ingresa un mes en idioma Español. Debe devolver la cantidad de películas que fueron estrenadas en el mes consultado en la totalidad del dataset.\n",
    "\n",
    "def cantidad_filmaciones_mes(mes: str) -> int: #Esta función toma un parámetro mes, que es una cadena de texto (por ejemplo, 'enero', 'febrero')\n",
    "    df['release_date'] = pd.to_datetime(df['release_date'])\n",
    "# Me aseguro que la columna 'release_date' esté en formato datetime\n",
    "    meses = {\n",
    "        'enero': 1, 'febrero': 2, 'marzo': 3, 'abril': 4,\n",
    "        'mayo': 5, 'junio': 6, 'julio': 7, 'agosto': 8,\n",
    "        'septiembre': 9, 'octubre': 10, 'noviembre': 11, 'diciembre': 12\n",
    "    }\n",
    "    #Creo el diccionario para mapear los nombres de los meses en español a sus correspondientes números (1-12).\n",
    "    \n",
    "    mes_num = meses.get(mes.lower())\n",
    "    #mes.lower() convierte el nombre del mes a minúsculas para asegurar que coincida con las claves del diccionario.\n",
    "    #meses.get(mes.lower()) obtiene el número correspondiente al mes ingresado. Si el mes no se encuentra en el diccionario, devuelve None.\n",
    "    \n",
    "    if mes_num:\n",
    "        return len(df[df['release_date'].dt.month == mes_num])\n",
    "    return 0\n",
    "\n",
    "#df['release_date'].dt.month: el atributo 'dt' extrae el número del mes de cada fecha en la columna release_date.\n",
    "#df[df['release_date'].dt.month == mes_num] filtra el DataFrame para incluir solo las filas donde el número del mes coincide con mes_num.\n",
    "#len() cuenta el número de filas en el DataFrame filtrado.\n",
    "#Si mes_num es None (el mes ingresado no es válido), la función devuelve 0."
   ]
  },
  {
   "cell_type": "code",
   "execution_count": 9,
   "metadata": {},
   "outputs": [
    {
     "data": {
      "text/plain": [
       "175"
      ]
     },
     "execution_count": 9,
     "metadata": {},
     "output_type": "execute_result"
    }
   ],
   "source": [
    "#Chequeo que funcione correctamente la función:\n",
    "cantidad_filmaciones_mes('enero')"
   ]
  },
  {
   "cell_type": "markdown",
   "metadata": {},
   "source": [
    "### Películas estrenadas en un día particular de la semana."
   ]
  },
  {
   "cell_type": "code",
   "execution_count": 12,
   "metadata": {},
   "outputs": [],
   "source": [
    "#Esta función toma un día de la semana en español y devuelve la cantidad de películas que fueron estrenadas en ese día según el dataset:\n",
    "\n",
    "# Definir la función cantidad_filmaciones_dia\n",
    "def cantidad_filmaciones_dia(dia: str) -> int:\n",
    "    # Me aseguro que la columna 'release_date' esté en formato datetime\n",
    "    df['release_date'] = pd.to_datetime(df['release_date'])\n",
    "    dias_semana = {\n",
    "    'lunes': 0, 'martes': 1, 'miercoles': 2, 'jueves': 3,\n",
    "    'viernes': 4, 'sabado': 5, 'domingo': 6\n",
    "}\n",
    "    dia_num = dias_semana.get(dia.lower())\n",
    "    if dia_num is not None:\n",
    "        return len(df[df['release_date'].dt.dayofweek == dia_num])\n",
    "    return 0\n",
    "\n",
    "#df['release_date'].dt.dayofweek: el atributo 'dt' extrae el número del día de cada fecha en la columna release_date.\n",
    "#df[df['release_date'].dt.dayofweek == dia_num] filtra el DataFrame para incluir solo las filas donde el número del dia coincide con dia_num.\n",
    "#len() cuenta el número de filas en el DataFrame filtrado.\n",
    "#Si dia_num es None (el mes ingresado no es válido), la función devuelve 0."
   ]
  },
  {
   "cell_type": "code",
   "execution_count": 13,
   "metadata": {},
   "outputs": [
    {
     "data": {
      "text/plain": [
       "280"
      ]
     },
     "execution_count": 13,
     "metadata": {},
     "output_type": "execute_result"
    }
   ],
   "source": [
    "#Chequeo que funcione correctamente la función:\n",
    "cantidad_filmaciones_dia('jueves')"
   ]
  },
  {
   "cell_type": "code",
   "execution_count": 14,
   "metadata": {},
   "outputs": [
    {
     "name": "stdout",
     "output_type": "stream",
     "text": [
      "351 películas fueron estrenadas en los días miercoles\n"
     ]
    }
   ],
   "source": [
    "#Hermoseamos un poco el resultado:\n",
    "dia_consultado = 'miercoles'\n",
    "cantidad = cantidad_filmaciones_dia(dia_consultado)\n",
    "print(f\"{cantidad} películas fueron estrenadas en los días {dia_consultado}\")"
   ]
  },
  {
   "cell_type": "markdown",
   "metadata": {},
   "source": [
    "### Título, año de estreno y cantidad de espectadores de una película seleccionada"
   ]
  },
  {
   "cell_type": "code",
   "execution_count": 19,
   "metadata": {},
   "outputs": [
    {
     "data": {
      "text/plain": [
       "dtype('float64')"
      ]
     },
     "execution_count": 19,
     "metadata": {},
     "output_type": "execute_result"
    }
   ],
   "source": [
    "df['popularity'].dtype"
   ]
  },
  {
   "cell_type": "code",
   "execution_count": 10,
   "metadata": {},
   "outputs": [],
   "source": [
    "#Convierto los datos de la columna 'popularity' de object a float.\n",
    "\n",
    "#df['popularity'] = df['popularity'].astype(float). Aparecen filas con strings como por ejemplo \"Beware Of Frost Bites\"\n",
    "df['popularity'] = pd.to_numeric(df['popularity'], errors='coerce')"
   ]
  },
  {
   "cell_type": "code",
   "execution_count": 30,
   "metadata": {},
   "outputs": [],
   "source": [
    "df['release_date'] = pd.to_datetime(df['release_date'])\n",
    "\n",
    "# Defino la función score_titulo\n",
    "def score_titulo(titulo_de_la_filmacion: str):\n",
    "    # Filtro el DataFrame para encontrar la filmación por título ignorando mayúsculas/minúsculas\n",
    "    pelicula = df[df['title'].str.lower() == titulo_de_la_filmacion.lower()]\n",
    "    \n",
    "    if not pelicula.empty: # -> verifica si se encontró alguna película con el título dado.\n",
    "        titulo = pelicula['title'].values[0] # -> obtiene el título de la película.\n",
    "        anio_estreno = pelicula['release_date'].dt.year.values[0] # -> obtiene el año de estreno.\n",
    "        popularidad = pelicula['popularity'].values[0] # -> obtiene el score o popularidad de la película.\n",
    "        \n",
    "        return f\"La película {titulo} fue estrenada en el año {anio_estreno} con un score/popularidad de {popularidad}\"\n",
    "    else:\n",
    "        return f\"No se encontró la película con el título {titulo_de_la_filmacion}\""
   ]
  },
  {
   "cell_type": "code",
   "execution_count": 29,
   "metadata": {},
   "outputs": [
    {
     "name": "stdout",
     "output_type": "stream",
     "text": [
      "title\n",
      "The Scarlet Letter                         2\n",
      "Sabrina                                    2\n",
      "The Jungle Book                            2\n",
      "Hamlet                                     2\n",
      "The Promise                                2\n",
      "                                          ..\n",
      "Tarantella                                 1\n",
      "Mystery Science Theater 3000: The Movie    1\n",
      "The World of Apu                           1\n",
      "Pather Panchali                            1\n",
      "Dead Men Don't Wear Plaid                  1\n",
      "Name: count, Length: 1992, dtype: int64\n"
     ]
    }
   ],
   "source": [
    "#Veo títulos de pelis para probar la función.\n",
    "pelis = df['title'].value_counts()\n",
    "print(pelis)"
   ]
  },
  {
   "cell_type": "code",
   "execution_count": 32,
   "metadata": {},
   "outputs": [
    {
     "name": "stdout",
     "output_type": "stream",
     "text": [
      "La película Tron fue estrenada en el año 1982 con un score/popularidad de 16.574021\n"
     ]
    }
   ],
   "source": [
    "# Pruebo la función\n",
    "titulo_buscar = 'TRON'\n",
    "resultado = score_titulo(titulo_buscar)\n",
    "print(resultado)"
   ]
  },
  {
   "cell_type": "markdown",
   "metadata": {},
   "source": [
    "### Cantidad de votos de cada película"
   ]
  },
  {
   "cell_type": "code",
   "execution_count": 33,
   "metadata": {},
   "outputs": [],
   "source": [
    "# Definir la función votos_titulo\n",
    "def votos_titulo(titulo_de_la_pelicula: str):\n",
    "    # Filtrar el DataFrame para encontrar la filmación por título\n",
    "    pelicula = df[df['title'].str.lower() == titulo_de_la_pelicula.lower()]\n",
    "    \n",
    "    if not pelicula.empty:\n",
    "        titulo = pelicula['title'].values[0]\n",
    "        cantidad_votos = pelicula['vote_count'].values[0]\n",
    "        promedio_votos = pelicula['vote_average'].values[0]\n",
    "        \n",
    "        if cantidad_votos >= 2000:\n",
    "            return f\"La película {titulo} cuenta con un total de {cantidad_votos} valoraciones, con un promedio de {promedio_votos}\"\n",
    "        else:\n",
    "            return f\"La película {titulo} no cumple con la condición de tener al menos 2000 valoraciones. Tiene un total de {cantidad_votos} valoraciones.\"\n",
    "    else:\n",
    "        return f\"No se encontró la película con el título {titulo_de_la_pelicula}\"\n"
   ]
  },
  {
   "cell_type": "code",
   "execution_count": 35,
   "metadata": {},
   "outputs": [
    {
     "name": "stdout",
     "output_type": "stream",
     "text": [
      "La película Toy Story cuenta con un total de 5415.0 valoraciones, con un promedio de 7.7\n"
     ]
    }
   ],
   "source": [
    "# Ejemplo de uso de la función\n",
    "titulo_buscar = 'Toy Story'\n",
    "resultado = votos_titulo(titulo_buscar)\n",
    "print(resultado)"
   ]
  },
  {
   "cell_type": "markdown",
   "metadata": {},
   "source": [
    "## Pasos para obtener las funciones get_actor y get_director"
   ]
  },
  {
   "cell_type": "code",
   "execution_count": 16,
   "metadata": {},
   "outputs": [],
   "source": [
    "# Para estas funciones abro el archivo credits\n",
    "df = pd.read_csv(r'C:\\Users\\nahue\\Searches\\Escritorio\\CARRERA HENRY\\PPI\\Movies\\credits.csv',low_memory=False)"
   ]
  },
  {
   "cell_type": "code",
   "execution_count": 17,
   "metadata": {},
   "outputs": [
    {
     "name": "stdout",
     "output_type": "stream",
     "text": [
      "<class 'pandas.core.frame.DataFrame'>\n",
      "RangeIndex: 45476 entries, 0 to 45475\n",
      "Data columns (total 3 columns):\n",
      " #   Column  Non-Null Count  Dtype \n",
      "---  ------  --------------  ----- \n",
      " 0   cast    45476 non-null  object\n",
      " 1   crew    45476 non-null  object\n",
      " 2   id      45476 non-null  int64 \n",
      "dtypes: int64(1), object(2)\n",
      "memory usage: 1.0+ MB\n"
     ]
    }
   ],
   "source": [
    "df.info()"
   ]
  },
  {
   "cell_type": "code",
   "execution_count": 18,
   "metadata": {},
   "outputs": [
    {
     "name": "stdout",
     "output_type": "stream",
     "text": [
      "                                           cast_filtrado\n",
      "0      [{'name': 'Tom Hanks'}, {'name': 'Tim Allen'},...\n",
      "1      [{'name': 'Robin Williams'}, {'name': 'Jonatha...\n",
      "2      [{'name': 'Walter Matthau'}, {'name': 'Jack Le...\n",
      "3      [{'name': 'Whitney Houston'}, {'name': 'Angela...\n",
      "4      [{'name': 'Steve Martin'}, {'name': 'Diane Kea...\n",
      "...                                                  ...\n",
      "45471  [{'name': 'Leila Hatami'}, {'name': 'Kourosh T...\n",
      "45472  [{'name': 'Angel Aquino'}, {'name': 'Perry Diz...\n",
      "45473  [{'name': 'Erika Eleniak'}, {'name': 'Adam Bal...\n",
      "45474  [{'name': 'Iwan Mosschuchin'}, {'name': 'Natha...\n",
      "45475                                                 []\n",
      "\n",
      "[45476 rows x 1 columns]\n"
     ]
    }
   ],
   "source": [
    "# De todos los datos de la columna 'cast' filtro sólo actores:\n",
    "\n",
    "import ast  # Para evaluar cadenas de texto como listas de diccionarios\n",
    "\n",
    "# Convierto la columna 'cast' de cadenas de texto a listas de diccionarios\n",
    "df['cast'] = df['cast'].apply(ast.literal_eval)\n",
    "\n",
    "# Función para extraer los actores de cada diccionario en la lista\n",
    "def extraer_actor(cast):\n",
    "    actores = []\n",
    "    for persona in cast:\n",
    "        if 'character' in persona:  # Diccionario con 'character'\n",
    "            actores.append({'name': persona['name']})\n",
    "    return actores\n",
    "\n",
    "# Aplico la función a la columna 'cast'\n",
    "df['cast_filtrado'] = df['cast'].apply(extraer_actor)\n",
    "\n",
    "# Chequeo el df resultante\n",
    "print(df[['cast_filtrado']])\n"
   ]
  },
  {
   "cell_type": "code",
   "execution_count": 19,
   "metadata": {},
   "outputs": [
    {
     "name": "stdout",
     "output_type": "stream",
     "text": [
      "                                           crew_filtrado\n",
      "0         [{'job': 'Director', 'name': 'John Lasseter'}]\n",
      "1          [{'job': 'Director', 'name': 'Joe Johnston'}]\n",
      "2         [{'job': 'Director', 'name': 'Howard Deutch'}]\n",
      "3       [{'job': 'Director', 'name': 'Forest Whitaker'}]\n",
      "4         [{'job': 'Director', 'name': 'Charles Shyer'}]\n",
      "...                                                  ...\n",
      "45471  [{'job': 'Director', 'name': 'Hamid Nematollah'}]\n",
      "45472          [{'job': 'Director', 'name': 'Lav Diaz'}]\n",
      "45473    [{'job': 'Director', 'name': 'Mark L. Lester'}]\n",
      "45474  [{'job': 'Director', 'name': 'Yakov Protazanov'}]\n",
      "45475     [{'job': 'Director', 'name': 'Daisy Asquith'}]\n",
      "\n",
      "[45476 rows x 1 columns]\n"
     ]
    }
   ],
   "source": [
    "# De todos los datos de la columna 'crew' filtro sólo directores:\n",
    "\n",
    "# Convierto la columna 'crew' de cadenas de texto a listas de diccionarios\n",
    "df['crew'] = df['crew'].apply(ast.literal_eval)\n",
    "\n",
    "# Función para extraer los directores de cada diccionario en la lista\n",
    "def extraer_director(crew):\n",
    "    directores = []\n",
    "    for persona in crew:\n",
    "        if persona.get('job') == 'Director': #filtro solamente directores\n",
    "            directores.append({'job': persona['job'], 'name': persona['name']})\n",
    "    return directores\n",
    "\n",
    "# Aplico la función a la columna 'crew'\n",
    "df['crew_filtrado'] = df['crew'].apply(extraer_director)\n",
    "\n",
    "# Veo el df resultante\n",
    "print(df[['crew_filtrado']])"
   ]
  },
  {
   "cell_type": "code",
   "execution_count": 20,
   "metadata": {},
   "outputs": [
    {
     "data": {
      "text/html": [
       "<div>\n",
       "<style scoped>\n",
       "    .dataframe tbody tr th:only-of-type {\n",
       "        vertical-align: middle;\n",
       "    }\n",
       "\n",
       "    .dataframe tbody tr th {\n",
       "        vertical-align: top;\n",
       "    }\n",
       "\n",
       "    .dataframe thead th {\n",
       "        text-align: right;\n",
       "    }\n",
       "</style>\n",
       "<table border=\"1\" class=\"dataframe\">\n",
       "  <thead>\n",
       "    <tr style=\"text-align: right;\">\n",
       "      <th></th>\n",
       "      <th>cast</th>\n",
       "      <th>crew</th>\n",
       "      <th>id</th>\n",
       "      <th>cast_filtrado</th>\n",
       "      <th>crew_filtrado</th>\n",
       "    </tr>\n",
       "  </thead>\n",
       "  <tbody>\n",
       "    <tr>\n",
       "      <th>0</th>\n",
       "      <td>[{'cast_id': 14, 'character': 'Woody (voice)',...</td>\n",
       "      <td>[{'credit_id': '52fe4284c3a36847f8024f49', 'de...</td>\n",
       "      <td>862</td>\n",
       "      <td>[{'name': 'Tom Hanks'}, {'name': 'Tim Allen'},...</td>\n",
       "      <td>[{'job': 'Director', 'name': 'John Lasseter'}]</td>\n",
       "    </tr>\n",
       "    <tr>\n",
       "      <th>1</th>\n",
       "      <td>[{'cast_id': 1, 'character': 'Alan Parrish', '...</td>\n",
       "      <td>[{'credit_id': '52fe44bfc3a36847f80a7cd1', 'de...</td>\n",
       "      <td>8844</td>\n",
       "      <td>[{'name': 'Robin Williams'}, {'name': 'Jonatha...</td>\n",
       "      <td>[{'job': 'Director', 'name': 'Joe Johnston'}]</td>\n",
       "    </tr>\n",
       "    <tr>\n",
       "      <th>2</th>\n",
       "      <td>[{'cast_id': 2, 'character': 'Max Goldman', 'c...</td>\n",
       "      <td>[{'credit_id': '52fe466a9251416c75077a89', 'de...</td>\n",
       "      <td>15602</td>\n",
       "      <td>[{'name': 'Walter Matthau'}, {'name': 'Jack Le...</td>\n",
       "      <td>[{'job': 'Director', 'name': 'Howard Deutch'}]</td>\n",
       "    </tr>\n",
       "  </tbody>\n",
       "</table>\n",
       "</div>"
      ],
      "text/plain": [
       "                                                cast  \\\n",
       "0  [{'cast_id': 14, 'character': 'Woody (voice)',...   \n",
       "1  [{'cast_id': 1, 'character': 'Alan Parrish', '...   \n",
       "2  [{'cast_id': 2, 'character': 'Max Goldman', 'c...   \n",
       "\n",
       "                                                crew     id  \\\n",
       "0  [{'credit_id': '52fe4284c3a36847f8024f49', 'de...    862   \n",
       "1  [{'credit_id': '52fe44bfc3a36847f80a7cd1', 'de...   8844   \n",
       "2  [{'credit_id': '52fe466a9251416c75077a89', 'de...  15602   \n",
       "\n",
       "                                       cast_filtrado  \\\n",
       "0  [{'name': 'Tom Hanks'}, {'name': 'Tim Allen'},...   \n",
       "1  [{'name': 'Robin Williams'}, {'name': 'Jonatha...   \n",
       "2  [{'name': 'Walter Matthau'}, {'name': 'Jack Le...   \n",
       "\n",
       "                                    crew_filtrado  \n",
       "0  [{'job': 'Director', 'name': 'John Lasseter'}]  \n",
       "1   [{'job': 'Director', 'name': 'Joe Johnston'}]  \n",
       "2  [{'job': 'Director', 'name': 'Howard Deutch'}]  "
      ]
     },
     "execution_count": 20,
     "metadata": {},
     "output_type": "execute_result"
    }
   ],
   "source": [
    "df.head(3)"
   ]
  },
  {
   "cell_type": "code",
   "execution_count": 21,
   "metadata": {},
   "outputs": [],
   "source": [
    "# Elimino las columnas de las cuales no voy a necesitar datos:\n",
    "df1 = df.drop(['cast', 'crew'], axis=1)"
   ]
  },
  {
   "cell_type": "code",
   "execution_count": 22,
   "metadata": {},
   "outputs": [
    {
     "data": {
      "text/html": [
       "<div>\n",
       "<style scoped>\n",
       "    .dataframe tbody tr th:only-of-type {\n",
       "        vertical-align: middle;\n",
       "    }\n",
       "\n",
       "    .dataframe tbody tr th {\n",
       "        vertical-align: top;\n",
       "    }\n",
       "\n",
       "    .dataframe thead th {\n",
       "        text-align: right;\n",
       "    }\n",
       "</style>\n",
       "<table border=\"1\" class=\"dataframe\">\n",
       "  <thead>\n",
       "    <tr style=\"text-align: right;\">\n",
       "      <th></th>\n",
       "      <th>id</th>\n",
       "      <th>cast_filtrado</th>\n",
       "      <th>crew_filtrado</th>\n",
       "    </tr>\n",
       "  </thead>\n",
       "  <tbody>\n",
       "    <tr>\n",
       "      <th>0</th>\n",
       "      <td>862</td>\n",
       "      <td>[{'name': 'Tom Hanks'}, {'name': 'Tim Allen'},...</td>\n",
       "      <td>[{'job': 'Director', 'name': 'John Lasseter'}]</td>\n",
       "    </tr>\n",
       "    <tr>\n",
       "      <th>1</th>\n",
       "      <td>8844</td>\n",
       "      <td>[{'name': 'Robin Williams'}, {'name': 'Jonatha...</td>\n",
       "      <td>[{'job': 'Director', 'name': 'Joe Johnston'}]</td>\n",
       "    </tr>\n",
       "  </tbody>\n",
       "</table>\n",
       "</div>"
      ],
      "text/plain": [
       "     id                                      cast_filtrado  \\\n",
       "0   862  [{'name': 'Tom Hanks'}, {'name': 'Tim Allen'},...   \n",
       "1  8844  [{'name': 'Robin Williams'}, {'name': 'Jonatha...   \n",
       "\n",
       "                                    crew_filtrado  \n",
       "0  [{'job': 'Director', 'name': 'John Lasseter'}]  \n",
       "1   [{'job': 'Director', 'name': 'Joe Johnston'}]  "
      ]
     },
     "execution_count": 22,
     "metadata": {},
     "output_type": "execute_result"
    }
   ],
   "source": [
    "df1.head(2)"
   ]
  },
  {
   "cell_type": "code",
   "execution_count": 23,
   "metadata": {},
   "outputs": [],
   "source": [
    "df1.to_csv('credits_transf.csv', index=False)"
   ]
  },
  {
   "cell_type": "markdown",
   "metadata": {},
   "source": [
    "## Sigue en Desarrollo_API_2.ipynb -->"
   ]
  }
 ],
 "metadata": {
  "kernelspec": {
   "display_name": "Python 3",
   "language": "python",
   "name": "python3"
  },
  "language_info": {
   "codemirror_mode": {
    "name": "ipython",
    "version": 3
   },
   "file_extension": ".py",
   "mimetype": "text/x-python",
   "name": "python",
   "nbconvert_exporter": "python",
   "pygments_lexer": "ipython3",
   "version": "3.9.7"
  }
 },
 "nbformat": 4,
 "nbformat_minor": 2
}
