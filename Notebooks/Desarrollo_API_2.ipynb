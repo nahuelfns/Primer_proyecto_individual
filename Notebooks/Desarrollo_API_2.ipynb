{
 "cells": [
  {
   "cell_type": "code",
   "execution_count": 6,
   "metadata": {},
   "outputs": [],
   "source": [
    "import pandas as pd\n",
    "import ast"
   ]
  },
  {
   "cell_type": "code",
   "execution_count": 8,
   "metadata": {},
   "outputs": [],
   "source": [
    "df = pd.read_csv(r'C:\\Users\\nahue\\Searches\\Escritorio\\CARRERA HENRY\\PPI\\Movies\\credits_transf.csv',low_memory=False)"
   ]
  },
  {
   "cell_type": "code",
   "execution_count": 9,
   "metadata": {},
   "outputs": [
    {
     "data": {
      "text/html": [
       "<div>\n",
       "<style scoped>\n",
       "    .dataframe tbody tr th:only-of-type {\n",
       "        vertical-align: middle;\n",
       "    }\n",
       "\n",
       "    .dataframe tbody tr th {\n",
       "        vertical-align: top;\n",
       "    }\n",
       "\n",
       "    .dataframe thead th {\n",
       "        text-align: right;\n",
       "    }\n",
       "</style>\n",
       "<table border=\"1\" class=\"dataframe\">\n",
       "  <thead>\n",
       "    <tr style=\"text-align: right;\">\n",
       "      <th></th>\n",
       "      <th>id</th>\n",
       "      <th>cast_filtrado</th>\n",
       "      <th>crew_filtrado</th>\n",
       "    </tr>\n",
       "  </thead>\n",
       "  <tbody>\n",
       "    <tr>\n",
       "      <th>0</th>\n",
       "      <td>862</td>\n",
       "      <td>[{'name': 'Tom Hanks'}, {'name': 'Tim Allen'},...</td>\n",
       "      <td>[{'job': 'Director', 'name': 'John Lasseter'}]</td>\n",
       "    </tr>\n",
       "    <tr>\n",
       "      <th>1</th>\n",
       "      <td>8844</td>\n",
       "      <td>[{'name': 'Robin Williams'}, {'name': 'Jonatha...</td>\n",
       "      <td>[{'job': 'Director', 'name': 'Joe Johnston'}]</td>\n",
       "    </tr>\n",
       "  </tbody>\n",
       "</table>\n",
       "</div>"
      ],
      "text/plain": [
       "     id                                      cast_filtrado  \\\n",
       "0   862  [{'name': 'Tom Hanks'}, {'name': 'Tim Allen'},...   \n",
       "1  8844  [{'name': 'Robin Williams'}, {'name': 'Jonatha...   \n",
       "\n",
       "                                    crew_filtrado  \n",
       "0  [{'job': 'Director', 'name': 'John Lasseter'}]  \n",
       "1   [{'job': 'Director', 'name': 'Joe Johnston'}]  "
      ]
     },
     "execution_count": 9,
     "metadata": {},
     "output_type": "execute_result"
    }
   ],
   "source": [
    "df.head(2)"
   ]
  },
  {
   "cell_type": "code",
   "execution_count": 10,
   "metadata": {},
   "outputs": [
    {
     "data": {
      "text/plain": [
       "(45476, 3)"
      ]
     },
     "execution_count": 10,
     "metadata": {},
     "output_type": "execute_result"
    }
   ],
   "source": [
    "df.shape"
   ]
  },
  {
   "cell_type": "code",
   "execution_count": 11,
   "metadata": {},
   "outputs": [],
   "source": [
    "#Al querer probar funciones, me sale un error de que el Kernel se muere. Posiblemente porque el archivo es muy grande. Lo achico.\n",
    "\n",
    "# Selecciono las primeras 2000 filas\n",
    "df_credits_reducido = df.head(2000)\n",
    "\n",
    "# Guardo el nuevo archivo CSV\n",
    "df_credits_reducido.to_csv('credits_2000.csv', index=False)"
   ]
  },
  {
   "cell_type": "code",
   "execution_count": 12,
   "metadata": {},
   "outputs": [],
   "source": [
    "df1 = pd.read_csv(r'C:\\Users\\nahue\\Searches\\Escritorio\\CARRERA HENRY\\PPI\\Movies\\credits_2000.csv', low_memory=False)"
   ]
  },
  {
   "cell_type": "code",
   "execution_count": 13,
   "metadata": {},
   "outputs": [
    {
     "data": {
      "text/plain": [
       "(2000, 3)"
      ]
     },
     "execution_count": 13,
     "metadata": {},
     "output_type": "execute_result"
    }
   ],
   "source": [
    "df1.shape"
   ]
  },
  {
   "cell_type": "code",
   "execution_count": 14,
   "metadata": {},
   "outputs": [
    {
     "name": "stdout",
     "output_type": "stream",
     "text": [
      "DataFrame de Actores:\n",
      "         id            actor\n",
      "0       862        Tom Hanks\n",
      "1       862        Tim Allen\n",
      "2       862      Don Rickles\n",
      "3       862       Jim Varney\n",
      "4       862    Wallace Shawn\n",
      "...     ...              ...\n",
      "35209  2107  Woody Harrelson\n",
      "35210  2107     Rick Moranis\n",
      "35211  2107   Robert Picardo\n",
      "35212  2107  George Plimpton\n",
      "35213  2107    Andrew Amador\n",
      "\n",
      "[35214 rows x 2 columns]\n"
     ]
    }
   ],
   "source": [
    "# Convierto la columna 'cast_filtrado' de cadenas de texto a listas de diccionarios\n",
    "df1['cast_filtrado'] = df1['cast_filtrado'].apply(ast.literal_eval)\n",
    "\n",
    "\n",
    "# Función para desglosar los diccionarios en filas individuales para 'cast_filtrado'\n",
    "def desglosar_cast(row):\n",
    "    return pd.DataFrame(row['cast_filtrado'])\n",
    "\n",
    "# Creo el df para actores\n",
    "actores_list = [] # Inicializamos una lista vacía para almacenar los datos de los actores.\n",
    "for index, row in df1.iterrows(): # Iteramos sobre cada fila del DataFrame.\n",
    "    if isinstance(row['cast_filtrado'], list):\n",
    "        for actor in row['cast_filtrado']: # Verificamos si la columna cast_filtrado contiene una lista.\n",
    "            actores_list.append({'id': row['id'], 'actor': actor['name']})# Añadimos un nuevo diccionario a actores_list con el id de la película y el name del actor.\n",
    "\n",
    "df_actores = pd.DataFrame(actores_list)\n",
    "\n",
    "# Veo el df resultante de actores\n",
    "print(\"DataFrame de Actores:\")\n",
    "print(df_actores[['id', 'actor']])\n"
   ]
  },
  {
   "cell_type": "code",
   "execution_count": 15,
   "metadata": {},
   "outputs": [],
   "source": [
    "df_actores.to_csv('actores.csv', index=False)"
   ]
  },
  {
   "cell_type": "code",
   "execution_count": 16,
   "metadata": {},
   "outputs": [
    {
     "name": "stdout",
     "output_type": "stream",
     "text": [
      "DataFrame de Directores:\n",
      "         id          director       job\n",
      "0       862     John Lasseter  Director\n",
      "1      8844      Joe Johnston  Director\n",
      "2     15602     Howard Deutch  Director\n",
      "3     31357   Forest Whitaker  Director\n",
      "4     11862     Charles Shyer  Director\n",
      "...     ...               ...       ...\n",
      "2114  27332        Tim Hunter  Director\n",
      "2115     97  Steven Lisberger  Director\n",
      "2116  10419     Thomas Carter  Director\n",
      "2117  11675       Steve Miner  Director\n",
      "2118   2107      Mick Jackson  Director\n",
      "\n",
      "[2119 rows x 3 columns]\n"
     ]
    }
   ],
   "source": [
    "# Convierto la columna 'crew_filtrado' de cadenas de texto a listas de diccionarios\n",
    "df1['crew_filtrado'] = df1['crew_filtrado'].apply(ast.literal_eval)\n",
    "\n",
    "# Función para desglosar los diccionarios en filas individuales para 'crew_filtrado'\n",
    "def desglosar_crew(row):\n",
    "    return pd.DataFrame(row['crew_filtrado'])\n",
    "\n",
    "# Creo el df para directores\n",
    "directores_list = []\n",
    "for index, row in df1.iterrows():\n",
    "    if isinstance(row['crew_filtrado'], list):\n",
    "        for director in row['crew_filtrado']:\n",
    "            directores_list.append({'id': row['id'], 'director': director['name'], 'job': director['job']})\n",
    "\n",
    "df_directores = pd.DataFrame(directores_list)\n",
    "\n",
    "# Vo el DataFrame resultante de directores\n",
    "print(\"DataFrame de Directores:\")\n",
    "print(df_directores[['id', 'director', 'job']])"
   ]
  },
  {
   "cell_type": "code",
   "execution_count": 17,
   "metadata": {},
   "outputs": [],
   "source": [
    "df_directores = df_directores.drop(['job'], axis=1)"
   ]
  },
  {
   "cell_type": "code",
   "execution_count": 18,
   "metadata": {},
   "outputs": [],
   "source": [
    "df_directores.to_csv('directores.csv', index=False)"
   ]
  },
  {
   "cell_type": "code",
   "execution_count": 19,
   "metadata": {},
   "outputs": [
    {
     "name": "stdout",
     "output_type": "stream",
     "text": [
      "DataFrame Unificado con left join:\n"
     ]
    },
    {
     "data": {
      "text/html": [
       "<div>\n",
       "<style scoped>\n",
       "    .dataframe tbody tr th:only-of-type {\n",
       "        vertical-align: middle;\n",
       "    }\n",
       "\n",
       "    .dataframe tbody tr th {\n",
       "        vertical-align: top;\n",
       "    }\n",
       "\n",
       "    .dataframe thead th {\n",
       "        text-align: right;\n",
       "    }\n",
       "</style>\n",
       "<table border=\"1\" class=\"dataframe\">\n",
       "  <thead>\n",
       "    <tr style=\"text-align: right;\">\n",
       "      <th></th>\n",
       "      <th>id</th>\n",
       "      <th>actor</th>\n",
       "      <th>director</th>\n",
       "    </tr>\n",
       "  </thead>\n",
       "  <tbody>\n",
       "    <tr>\n",
       "      <th>0</th>\n",
       "      <td>862</td>\n",
       "      <td>Tom Hanks</td>\n",
       "      <td>John Lasseter</td>\n",
       "    </tr>\n",
       "    <tr>\n",
       "      <th>1</th>\n",
       "      <td>862</td>\n",
       "      <td>Tim Allen</td>\n",
       "      <td>John Lasseter</td>\n",
       "    </tr>\n",
       "    <tr>\n",
       "      <th>2</th>\n",
       "      <td>862</td>\n",
       "      <td>Don Rickles</td>\n",
       "      <td>John Lasseter</td>\n",
       "    </tr>\n",
       "    <tr>\n",
       "      <th>3</th>\n",
       "      <td>862</td>\n",
       "      <td>Jim Varney</td>\n",
       "      <td>John Lasseter</td>\n",
       "    </tr>\n",
       "    <tr>\n",
       "      <th>4</th>\n",
       "      <td>862</td>\n",
       "      <td>Wallace Shawn</td>\n",
       "      <td>John Lasseter</td>\n",
       "    </tr>\n",
       "    <tr>\n",
       "      <th>...</th>\n",
       "      <td>...</td>\n",
       "      <td>...</td>\n",
       "      <td>...</td>\n",
       "    </tr>\n",
       "    <tr>\n",
       "      <th>36991</th>\n",
       "      <td>2107</td>\n",
       "      <td>Woody Harrelson</td>\n",
       "      <td>Mick Jackson</td>\n",
       "    </tr>\n",
       "    <tr>\n",
       "      <th>36992</th>\n",
       "      <td>2107</td>\n",
       "      <td>Rick Moranis</td>\n",
       "      <td>Mick Jackson</td>\n",
       "    </tr>\n",
       "    <tr>\n",
       "      <th>36993</th>\n",
       "      <td>2107</td>\n",
       "      <td>Robert Picardo</td>\n",
       "      <td>Mick Jackson</td>\n",
       "    </tr>\n",
       "    <tr>\n",
       "      <th>36994</th>\n",
       "      <td>2107</td>\n",
       "      <td>George Plimpton</td>\n",
       "      <td>Mick Jackson</td>\n",
       "    </tr>\n",
       "    <tr>\n",
       "      <th>36995</th>\n",
       "      <td>2107</td>\n",
       "      <td>Andrew Amador</td>\n",
       "      <td>Mick Jackson</td>\n",
       "    </tr>\n",
       "  </tbody>\n",
       "</table>\n",
       "<p>36996 rows × 3 columns</p>\n",
       "</div>"
      ],
      "text/plain": [
       "         id            actor       director\n",
       "0       862        Tom Hanks  John Lasseter\n",
       "1       862        Tim Allen  John Lasseter\n",
       "2       862      Don Rickles  John Lasseter\n",
       "3       862       Jim Varney  John Lasseter\n",
       "4       862    Wallace Shawn  John Lasseter\n",
       "...     ...              ...            ...\n",
       "36991  2107  Woody Harrelson   Mick Jackson\n",
       "36992  2107     Rick Moranis   Mick Jackson\n",
       "36993  2107   Robert Picardo   Mick Jackson\n",
       "36994  2107  George Plimpton   Mick Jackson\n",
       "36995  2107    Andrew Amador   Mick Jackson\n",
       "\n",
       "[36996 rows x 3 columns]"
      ]
     },
     "execution_count": 19,
     "metadata": {},
     "output_type": "execute_result"
    }
   ],
   "source": [
    "# Uno los DataFrames por la columna 'id' usando left join\n",
    "df_unido = pd.merge(df_actores, df_directores, on='id', how='left')\n",
    "\n",
    "# Veo el DataFrame resultante\n",
    "print(\"DataFrame Unificado con left join:\")\n",
    "df_unido"
   ]
  },
  {
   "cell_type": "code",
   "execution_count": 20,
   "metadata": {},
   "outputs": [
    {
     "name": "stdout",
     "output_type": "stream",
     "text": [
      "DataFrame con coincidencias de actor y director:\n",
      "          id              actor           director  actor_y_director\n",
      "242    12110         Mel Brooks         Mel Brooks              True\n",
      "419        5  Quentin Tarantino  Quentin Tarantino              True\n",
      "681      902          Marc Caro          Marc Caro              True\n",
      "1140   11448        Woody Allen        Woody Allen              True\n",
      "1314    4482    Josiane Balasko    Josiane Balasko              True\n",
      "...      ...                ...                ...               ...\n",
      "34190  10131       Renny Harlin       Renny Harlin              True\n",
      "34415    948     John Carpenter     John Carpenter              True\n",
      "34471  10676  Tommy Lee Wallace  Tommy Lee Wallace              True\n",
      "36082   1779      Michael Moore      Michael Moore              True\n",
      "36921  53565        Walt Disney        Walt Disney              True\n",
      "\n",
      "[201 rows x 4 columns]\n"
     ]
    }
   ],
   "source": [
    "#Busco actores que son directores:\n",
    "\n",
    "# Añado una columna que indique si el actor es también el director. Si los valores coinciden sera TRUE, sino FALSE.\n",
    "df_unido['actor_y_director'] = df_unido['actor'] == df_unido['director']\n",
    "\n",
    "# Filtrar las filas donde haya coincidencia\n",
    "df_coincidencias = df_unido[df_unido['actor_y_director']]\n",
    "\n",
    "# Veo el DataFrame resultante con coincidencias\n",
    "print(\"DataFrame con coincidencias de actor y director:\")\n",
    "print(df_coincidencias)"
   ]
  },
  {
   "cell_type": "code",
   "execution_count": 21,
   "metadata": {},
   "outputs": [
    {
     "name": "stdout",
     "output_type": "stream",
     "text": [
      "DataFrame sin coincidencias de actor y director:\n",
      "         id            actor       director  actor_y_director\n",
      "0       862        Tom Hanks  John Lasseter             False\n",
      "1       862        Tim Allen  John Lasseter             False\n",
      "2       862      Don Rickles  John Lasseter             False\n",
      "3       862       Jim Varney  John Lasseter             False\n",
      "4       862    Wallace Shawn  John Lasseter             False\n",
      "...     ...              ...            ...               ...\n",
      "36991  2107  Woody Harrelson   Mick Jackson             False\n",
      "36992  2107     Rick Moranis   Mick Jackson             False\n",
      "36993  2107   Robert Picardo   Mick Jackson             False\n",
      "36994  2107  George Plimpton   Mick Jackson             False\n",
      "36995  2107    Andrew Amador   Mick Jackson             False\n",
      "\n",
      "[36795 rows x 4 columns]\n"
     ]
    }
   ],
   "source": [
    "#Elimino las coincidencias para realizar la funcion get_actor ya que no debe considerar directores.\n",
    "\n",
    "# Filtro las filas donde 'actor y director' es False\n",
    "df_sin_coincidencias = df_unido[df_unido['actor_y_director'] == False]\n",
    "\n",
    "# Ver el DataFrame resultante sin coincidencias\n",
    "print(\"DataFrame sin coincidencias de actor y director:\")\n",
    "print(df_sin_coincidencias)"
   ]
  },
  {
   "cell_type": "code",
   "execution_count": 22,
   "metadata": {},
   "outputs": [],
   "source": [
    "#Elimino la columna actor_y_director y guardo el df aparte.\n",
    "df_sin_coincidencias = df_sin_coincidencias.drop(columns=['actor_y_director'])"
   ]
  },
  {
   "cell_type": "code",
   "execution_count": 23,
   "metadata": {},
   "outputs": [],
   "source": [
    "df_sin_coincidencias.to_csv('actores_no_directores.csv')"
   ]
  },
  {
   "cell_type": "code",
   "execution_count": 25,
   "metadata": {},
   "outputs": [],
   "source": [
    "df4 = pd.read_csv(r'C:\\Users\\nahue\\Searches\\Escritorio\\CARRERA HENRY\\PPI\\Movies\\movies_dataset_transf.csv',low_memory=False)"
   ]
  },
  {
   "cell_type": "code",
   "execution_count": 26,
   "metadata": {},
   "outputs": [
    {
     "data": {
      "text/html": [
       "<div>\n",
       "<style scoped>\n",
       "    .dataframe tbody tr th:only-of-type {\n",
       "        vertical-align: middle;\n",
       "    }\n",
       "\n",
       "    .dataframe tbody tr th {\n",
       "        vertical-align: top;\n",
       "    }\n",
       "\n",
       "    .dataframe thead th {\n",
       "        text-align: right;\n",
       "    }\n",
       "</style>\n",
       "<table border=\"1\" class=\"dataframe\">\n",
       "  <thead>\n",
       "    <tr style=\"text-align: right;\">\n",
       "      <th></th>\n",
       "      <th>budget</th>\n",
       "      <th>genres</th>\n",
       "      <th>id</th>\n",
       "      <th>original_language</th>\n",
       "      <th>overview</th>\n",
       "      <th>popularity</th>\n",
       "      <th>production_companies</th>\n",
       "      <th>production_countries</th>\n",
       "      <th>release_date</th>\n",
       "      <th>revenue</th>\n",
       "      <th>...</th>\n",
       "      <th>spoken_languages</th>\n",
       "      <th>status</th>\n",
       "      <th>tagline</th>\n",
       "      <th>title</th>\n",
       "      <th>vote_average</th>\n",
       "      <th>vote_count</th>\n",
       "      <th>id_movie</th>\n",
       "      <th>movie_name</th>\n",
       "      <th>release_year</th>\n",
       "      <th>return</th>\n",
       "    </tr>\n",
       "  </thead>\n",
       "  <tbody>\n",
       "    <tr>\n",
       "      <th>0</th>\n",
       "      <td>30000000.0</td>\n",
       "      <td>[{'id': 16, 'name': 'Animation'}, {'id': 35, '...</td>\n",
       "      <td>862</td>\n",
       "      <td>en</td>\n",
       "      <td>Led by Woody, Andy's toys live happily in his ...</td>\n",
       "      <td>21.946943</td>\n",
       "      <td>[{'name': 'Pixar Animation Studios', 'id': 3}]</td>\n",
       "      <td>[{'iso_3166_1': 'US', 'name': 'United States o...</td>\n",
       "      <td>1995-10-30</td>\n",
       "      <td>373554033.0</td>\n",
       "      <td>...</td>\n",
       "      <td>[{'iso_639_1': 'en', 'name': 'English'}]</td>\n",
       "      <td>Released</td>\n",
       "      <td>NaN</td>\n",
       "      <td>Toy Story</td>\n",
       "      <td>7.7</td>\n",
       "      <td>5415.0</td>\n",
       "      <td>10194</td>\n",
       "      <td>Toy Story Collection</td>\n",
       "      <td>1995.0</td>\n",
       "      <td>12.451801</td>\n",
       "    </tr>\n",
       "    <tr>\n",
       "      <th>1</th>\n",
       "      <td>65000000.0</td>\n",
       "      <td>[{'id': 12, 'name': 'Adventure'}, {'id': 14, '...</td>\n",
       "      <td>8844</td>\n",
       "      <td>en</td>\n",
       "      <td>When siblings Judy and Peter discover an encha...</td>\n",
       "      <td>17.015539</td>\n",
       "      <td>[{'name': 'TriStar Pictures', 'id': 559}, {'na...</td>\n",
       "      <td>[{'iso_3166_1': 'US', 'name': 'United States o...</td>\n",
       "      <td>1995-12-15</td>\n",
       "      <td>262797249.0</td>\n",
       "      <td>...</td>\n",
       "      <td>[{'iso_639_1': 'en', 'name': 'English'}, {'iso...</td>\n",
       "      <td>Released</td>\n",
       "      <td>Roll the dice and unleash the excitement!</td>\n",
       "      <td>Jumanji</td>\n",
       "      <td>6.9</td>\n",
       "      <td>2413.0</td>\n",
       "      <td>0</td>\n",
       "      <td>NaN</td>\n",
       "      <td>1995.0</td>\n",
       "      <td>4.043035</td>\n",
       "    </tr>\n",
       "  </tbody>\n",
       "</table>\n",
       "<p>2 rows × 21 columns</p>\n",
       "</div>"
      ],
      "text/plain": [
       "       budget                                             genres    id  \\\n",
       "0  30000000.0  [{'id': 16, 'name': 'Animation'}, {'id': 35, '...   862   \n",
       "1  65000000.0  [{'id': 12, 'name': 'Adventure'}, {'id': 14, '...  8844   \n",
       "\n",
       "  original_language                                           overview  \\\n",
       "0                en  Led by Woody, Andy's toys live happily in his ...   \n",
       "1                en  When siblings Judy and Peter discover an encha...   \n",
       "\n",
       "   popularity                               production_companies  \\\n",
       "0   21.946943     [{'name': 'Pixar Animation Studios', 'id': 3}]   \n",
       "1   17.015539  [{'name': 'TriStar Pictures', 'id': 559}, {'na...   \n",
       "\n",
       "                                production_countries release_date  \\\n",
       "0  [{'iso_3166_1': 'US', 'name': 'United States o...   1995-10-30   \n",
       "1  [{'iso_3166_1': 'US', 'name': 'United States o...   1995-12-15   \n",
       "\n",
       "       revenue  ...                                   spoken_languages  \\\n",
       "0  373554033.0  ...           [{'iso_639_1': 'en', 'name': 'English'}]   \n",
       "1  262797249.0  ...  [{'iso_639_1': 'en', 'name': 'English'}, {'iso...   \n",
       "\n",
       "     status                                    tagline      title  \\\n",
       "0  Released                                        NaN  Toy Story   \n",
       "1  Released  Roll the dice and unleash the excitement!    Jumanji   \n",
       "\n",
       "  vote_average  vote_count  id_movie            movie_name release_year  \\\n",
       "0          7.7      5415.0     10194  Toy Story Collection       1995.0   \n",
       "1          6.9      2413.0         0                   NaN       1995.0   \n",
       "\n",
       "      return  \n",
       "0  12.451801  \n",
       "1   4.043035  \n",
       "\n",
       "[2 rows x 21 columns]"
      ]
     },
     "execution_count": 26,
     "metadata": {},
     "output_type": "execute_result"
    }
   ],
   "source": [
    "df4.head(2)"
   ]
  },
  {
   "cell_type": "code",
   "execution_count": 27,
   "metadata": {},
   "outputs": [
    {
     "data": {
      "text/html": [
       "<div>\n",
       "<style scoped>\n",
       "    .dataframe tbody tr th:only-of-type {\n",
       "        vertical-align: middle;\n",
       "    }\n",
       "\n",
       "    .dataframe tbody tr th {\n",
       "        vertical-align: top;\n",
       "    }\n",
       "\n",
       "    .dataframe thead th {\n",
       "        text-align: right;\n",
       "    }\n",
       "</style>\n",
       "<table border=\"1\" class=\"dataframe\">\n",
       "  <thead>\n",
       "    <tr style=\"text-align: right;\">\n",
       "      <th></th>\n",
       "      <th>id</th>\n",
       "      <th>title</th>\n",
       "      <th>return</th>\n",
       "    </tr>\n",
       "  </thead>\n",
       "  <tbody>\n",
       "    <tr>\n",
       "      <th>0</th>\n",
       "      <td>862</td>\n",
       "      <td>Toy Story</td>\n",
       "      <td>12.451801</td>\n",
       "    </tr>\n",
       "    <tr>\n",
       "      <th>1</th>\n",
       "      <td>8844</td>\n",
       "      <td>Jumanji</td>\n",
       "      <td>4.043035</td>\n",
       "    </tr>\n",
       "    <tr>\n",
       "      <th>2</th>\n",
       "      <td>15602</td>\n",
       "      <td>Grumpier Old Men</td>\n",
       "      <td>0.000000</td>\n",
       "    </tr>\n",
       "    <tr>\n",
       "      <th>3</th>\n",
       "      <td>31357</td>\n",
       "      <td>Waiting to Exhale</td>\n",
       "      <td>5.090760</td>\n",
       "    </tr>\n",
       "    <tr>\n",
       "      <th>4</th>\n",
       "      <td>11862</td>\n",
       "      <td>Father of the Bride Part II</td>\n",
       "      <td>0.000000</td>\n",
       "    </tr>\n",
       "    <tr>\n",
       "      <th>...</th>\n",
       "      <td>...</td>\n",
       "      <td>...</td>\n",
       "      <td>...</td>\n",
       "    </tr>\n",
       "    <tr>\n",
       "      <th>1995</th>\n",
       "      <td>10419</td>\n",
       "      <td>Swing Kids</td>\n",
       "      <td>0.000000</td>\n",
       "    </tr>\n",
       "    <tr>\n",
       "      <th>1996</th>\n",
       "      <td>11675</td>\n",
       "      <td>Halloween: H20</td>\n",
       "      <td>3.237749</td>\n",
       "    </tr>\n",
       "    <tr>\n",
       "      <th>1997</th>\n",
       "      <td>2107</td>\n",
       "      <td>L.A. Story</td>\n",
       "      <td>0.000000</td>\n",
       "    </tr>\n",
       "    <tr>\n",
       "      <th>1998</th>\n",
       "      <td>6471</td>\n",
       "      <td>The Jerk</td>\n",
       "      <td>0.000000</td>\n",
       "    </tr>\n",
       "    <tr>\n",
       "      <th>1999</th>\n",
       "      <td>9442</td>\n",
       "      <td>Dead Men Don't Wear Plaid</td>\n",
       "      <td>0.000000</td>\n",
       "    </tr>\n",
       "  </tbody>\n",
       "</table>\n",
       "<p>2000 rows × 3 columns</p>\n",
       "</div>"
      ],
      "text/plain": [
       "         id                        title     return\n",
       "0       862                    Toy Story  12.451801\n",
       "1      8844                      Jumanji   4.043035\n",
       "2     15602             Grumpier Old Men   0.000000\n",
       "3     31357            Waiting to Exhale   5.090760\n",
       "4     11862  Father of the Bride Part II   0.000000\n",
       "...     ...                          ...        ...\n",
       "1995  10419                   Swing Kids   0.000000\n",
       "1996  11675               Halloween: H20   3.237749\n",
       "1997   2107                   L.A. Story   0.000000\n",
       "1998   6471                     The Jerk   0.000000\n",
       "1999   9442    Dead Men Don't Wear Plaid   0.000000\n",
       "\n",
       "[2000 rows x 3 columns]"
      ]
     },
     "execution_count": 27,
     "metadata": {},
     "output_type": "execute_result"
    }
   ],
   "source": [
    "# Selecciono las columnas que necesito para la funcion get_actor\n",
    "columnas_necesarias = ['id', 'title', 'return']\n",
    "df_necesario = df4[columnas_necesarias]\n",
    "\n",
    "# Ver el DataFrame resultante\n",
    "df_necesario"
   ]
  },
  {
   "cell_type": "code",
   "execution_count": 28,
   "metadata": {},
   "outputs": [],
   "source": [
    "df_necesario.to_csv('df_para_get_actor.csv')"
   ]
  },
  {
   "cell_type": "code",
   "execution_count": 29,
   "metadata": {},
   "outputs": [
    {
     "data": {
      "text/html": [
       "<div>\n",
       "<style scoped>\n",
       "    .dataframe tbody tr th:only-of-type {\n",
       "        vertical-align: middle;\n",
       "    }\n",
       "\n",
       "    .dataframe tbody tr th {\n",
       "        vertical-align: top;\n",
       "    }\n",
       "\n",
       "    .dataframe thead th {\n",
       "        text-align: right;\n",
       "    }\n",
       "</style>\n",
       "<table border=\"1\" class=\"dataframe\">\n",
       "  <thead>\n",
       "    <tr style=\"text-align: right;\">\n",
       "      <th></th>\n",
       "      <th>id</th>\n",
       "      <th>actor</th>\n",
       "      <th>director</th>\n",
       "      <th>title</th>\n",
       "      <th>return</th>\n",
       "    </tr>\n",
       "  </thead>\n",
       "  <tbody>\n",
       "    <tr>\n",
       "      <th>0</th>\n",
       "      <td>862</td>\n",
       "      <td>Tom Hanks</td>\n",
       "      <td>John Lasseter</td>\n",
       "      <td>Toy Story</td>\n",
       "      <td>12.451801</td>\n",
       "    </tr>\n",
       "    <tr>\n",
       "      <th>1</th>\n",
       "      <td>862</td>\n",
       "      <td>Tim Allen</td>\n",
       "      <td>John Lasseter</td>\n",
       "      <td>Toy Story</td>\n",
       "      <td>12.451801</td>\n",
       "    </tr>\n",
       "    <tr>\n",
       "      <th>2</th>\n",
       "      <td>862</td>\n",
       "      <td>Don Rickles</td>\n",
       "      <td>John Lasseter</td>\n",
       "      <td>Toy Story</td>\n",
       "      <td>12.451801</td>\n",
       "    </tr>\n",
       "    <tr>\n",
       "      <th>3</th>\n",
       "      <td>862</td>\n",
       "      <td>Jim Varney</td>\n",
       "      <td>John Lasseter</td>\n",
       "      <td>Toy Story</td>\n",
       "      <td>12.451801</td>\n",
       "    </tr>\n",
       "    <tr>\n",
       "      <th>4</th>\n",
       "      <td>862</td>\n",
       "      <td>Wallace Shawn</td>\n",
       "      <td>John Lasseter</td>\n",
       "      <td>Toy Story</td>\n",
       "      <td>12.451801</td>\n",
       "    </tr>\n",
       "    <tr>\n",
       "      <th>...</th>\n",
       "      <td>...</td>\n",
       "      <td>...</td>\n",
       "      <td>...</td>\n",
       "      <td>...</td>\n",
       "      <td>...</td>\n",
       "    </tr>\n",
       "    <tr>\n",
       "      <th>36826</th>\n",
       "      <td>2107</td>\n",
       "      <td>Woody Harrelson</td>\n",
       "      <td>Mick Jackson</td>\n",
       "      <td>L.A. Story</td>\n",
       "      <td>0.000000</td>\n",
       "    </tr>\n",
       "    <tr>\n",
       "      <th>36827</th>\n",
       "      <td>2107</td>\n",
       "      <td>Rick Moranis</td>\n",
       "      <td>Mick Jackson</td>\n",
       "      <td>L.A. Story</td>\n",
       "      <td>0.000000</td>\n",
       "    </tr>\n",
       "    <tr>\n",
       "      <th>36828</th>\n",
       "      <td>2107</td>\n",
       "      <td>Robert Picardo</td>\n",
       "      <td>Mick Jackson</td>\n",
       "      <td>L.A. Story</td>\n",
       "      <td>0.000000</td>\n",
       "    </tr>\n",
       "    <tr>\n",
       "      <th>36829</th>\n",
       "      <td>2107</td>\n",
       "      <td>George Plimpton</td>\n",
       "      <td>Mick Jackson</td>\n",
       "      <td>L.A. Story</td>\n",
       "      <td>0.000000</td>\n",
       "    </tr>\n",
       "    <tr>\n",
       "      <th>36830</th>\n",
       "      <td>2107</td>\n",
       "      <td>Andrew Amador</td>\n",
       "      <td>Mick Jackson</td>\n",
       "      <td>L.A. Story</td>\n",
       "      <td>0.000000</td>\n",
       "    </tr>\n",
       "  </tbody>\n",
       "</table>\n",
       "<p>36831 rows × 5 columns</p>\n",
       "</div>"
      ],
      "text/plain": [
       "         id            actor       director       title     return\n",
       "0       862        Tom Hanks  John Lasseter   Toy Story  12.451801\n",
       "1       862        Tim Allen  John Lasseter   Toy Story  12.451801\n",
       "2       862      Don Rickles  John Lasseter   Toy Story  12.451801\n",
       "3       862       Jim Varney  John Lasseter   Toy Story  12.451801\n",
       "4       862    Wallace Shawn  John Lasseter   Toy Story  12.451801\n",
       "...     ...              ...            ...         ...        ...\n",
       "36826  2107  Woody Harrelson   Mick Jackson  L.A. Story   0.000000\n",
       "36827  2107     Rick Moranis   Mick Jackson  L.A. Story   0.000000\n",
       "36828  2107   Robert Picardo   Mick Jackson  L.A. Story   0.000000\n",
       "36829  2107  George Plimpton   Mick Jackson  L.A. Story   0.000000\n",
       "36830  2107    Andrew Amador   Mick Jackson  L.A. Story   0.000000\n",
       "\n",
       "[36831 rows x 5 columns]"
      ]
     },
     "execution_count": 29,
     "metadata": {},
     "output_type": "execute_result"
    }
   ],
   "source": [
    "# Uno los DataFrames por la columna 'id' usando left join\n",
    "df_get_actor = pd.merge(df_sin_coincidencias, df_necesario, on='id', how='left')\n",
    "\n",
    "# Veo el DataFrame resultante\n",
    "df_get_actor"
   ]
  },
  {
   "cell_type": "code",
   "execution_count": 30,
   "metadata": {},
   "outputs": [],
   "source": [
    "df_get_actor = df_get_actor.drop(columns=['director'])"
   ]
  },
  {
   "cell_type": "code",
   "execution_count": 31,
   "metadata": {},
   "outputs": [
    {
     "data": {
      "text/html": [
       "<div>\n",
       "<style scoped>\n",
       "    .dataframe tbody tr th:only-of-type {\n",
       "        vertical-align: middle;\n",
       "    }\n",
       "\n",
       "    .dataframe tbody tr th {\n",
       "        vertical-align: top;\n",
       "    }\n",
       "\n",
       "    .dataframe thead th {\n",
       "        text-align: right;\n",
       "    }\n",
       "</style>\n",
       "<table border=\"1\" class=\"dataframe\">\n",
       "  <thead>\n",
       "    <tr style=\"text-align: right;\">\n",
       "      <th></th>\n",
       "      <th>id</th>\n",
       "      <th>actor</th>\n",
       "      <th>title</th>\n",
       "      <th>return</th>\n",
       "    </tr>\n",
       "  </thead>\n",
       "  <tbody>\n",
       "    <tr>\n",
       "      <th>0</th>\n",
       "      <td>862</td>\n",
       "      <td>Tom Hanks</td>\n",
       "      <td>Toy Story</td>\n",
       "      <td>12.451801</td>\n",
       "    </tr>\n",
       "    <tr>\n",
       "      <th>1</th>\n",
       "      <td>862</td>\n",
       "      <td>Tim Allen</td>\n",
       "      <td>Toy Story</td>\n",
       "      <td>12.451801</td>\n",
       "    </tr>\n",
       "  </tbody>\n",
       "</table>\n",
       "</div>"
      ],
      "text/plain": [
       "    id      actor      title     return\n",
       "0  862  Tom Hanks  Toy Story  12.451801\n",
       "1  862  Tim Allen  Toy Story  12.451801"
      ]
     },
     "execution_count": 31,
     "metadata": {},
     "output_type": "execute_result"
    }
   ],
   "source": [
    "df_get_actor.head(2)"
   ]
  },
  {
   "cell_type": "code",
   "execution_count": 32,
   "metadata": {},
   "outputs": [],
   "source": [
    "df_get_actor.to_csv('df_para_funcion_get_actor.csv')"
   ]
  },
  {
   "cell_type": "markdown",
   "metadata": {},
   "source": [
    "### Obtener actor, su éxito a través del retorno, cantidad de películas en las que participó y su retorno promedio"
   ]
  },
  {
   "cell_type": "code",
   "execution_count": 33,
   "metadata": {},
   "outputs": [],
   "source": [
    "def get_actor(nombre_actor):\n",
    "    # Filtrar el DataFrame para obtener solo las filas del actor especificado ignorando mayúsculas y minúsculas\n",
    "    df_actor = df_get_actor[df_get_actor['actor'].str.lower() == nombre_actor.lower()]\n",
    "    \n",
    "    # Calcular la cantidad de películas en las que ha participado\n",
    "    cantidad_peliculas = df_actor.shape[0] \n",
    "    # con shape[0] obtengo el número de filas en df_actor, que corresponde a la cantidad de películas en las que el actor ha participado.\n",
    "    \n",
    "    # Calcular el retorno total\n",
    "    retorno_total = df_actor['return'].sum()\n",
    "    \n",
    "    # Calcular el promedio de retorno por filmación\n",
    "    promedio_retorno = df_actor['return'].mean()\n",
    "    \n",
    "    # Formatear el resultado\n",
    "    resultado = (\n",
    "        f\"El actor {nombre_actor} ha participado de {cantidad_peliculas} cantidad de filmaciones, \"\n",
    "        f\"el mismo ha conseguido un retorno de {retorno_total} con un promedio de {promedio_retorno:.2f} por filmación\"\n",
    "    )\n",
    "    \n",
    "    return resultado"
   ]
  },
  {
   "cell_type": "code",
   "execution_count": 34,
   "metadata": {},
   "outputs": [
    {
     "name": "stdout",
     "output_type": "stream",
     "text": [
      "El actor Frank Welker ha participado de 33 cantidad de filmaciones, el mismo ha conseguido un retorno de 158.51834432334533 con un promedio de 4.80 por filmación\n"
     ]
    }
   ],
   "source": [
    "# Ejemplo de uso de la función\n",
    "nombre_actor = 'Frank Welker'\n",
    "resultado = get_actor(nombre_actor)\n",
    "print(resultado)"
   ]
  },
  {
   "cell_type": "code",
   "execution_count": 35,
   "metadata": {},
   "outputs": [
    {
     "name": "stdout",
     "output_type": "stream",
     "text": [
      "actor\n",
      "Frank Welker         33\n",
      "Sterling Holloway    26\n",
      "Samuel L. Jackson    25\n",
      "Whoopi Goldberg      24\n",
      "Jim Cummings         22\n",
      "                     ..\n",
      "Helen Spring          1\n",
      "Lloyd Williams        1\n",
      "Paula Winslowe        1\n",
      "Wilson Wood           1\n",
      "Victoria Tennant      1\n",
      "Name: count, Length: 21328, dtype: int64\n"
     ]
    }
   ],
   "source": [
    "#Verifico que los datos son correctos:\n",
    "cantidad = df_get_actor['actor'].value_counts()\n",
    "print(cantidad)"
   ]
  },
  {
   "cell_type": "markdown",
   "metadata": {},
   "source": [
    "### Obtener director, su éxito a través del retorno, nombre de cada película con la fecha de lanzamiento, retorno individual, costo y ganancia de la misma"
   ]
  },
  {
   "cell_type": "code",
   "execution_count": 36,
   "metadata": {},
   "outputs": [
    {
     "data": {
      "text/html": [
       "<div>\n",
       "<style scoped>\n",
       "    .dataframe tbody tr th:only-of-type {\n",
       "        vertical-align: middle;\n",
       "    }\n",
       "\n",
       "    .dataframe tbody tr th {\n",
       "        vertical-align: top;\n",
       "    }\n",
       "\n",
       "    .dataframe thead th {\n",
       "        text-align: right;\n",
       "    }\n",
       "</style>\n",
       "<table border=\"1\" class=\"dataframe\">\n",
       "  <thead>\n",
       "    <tr style=\"text-align: right;\">\n",
       "      <th></th>\n",
       "      <th>id</th>\n",
       "      <th>title</th>\n",
       "      <th>release_date</th>\n",
       "      <th>budget</th>\n",
       "      <th>revenue</th>\n",
       "      <th>return</th>\n",
       "    </tr>\n",
       "  </thead>\n",
       "  <tbody>\n",
       "    <tr>\n",
       "      <th>0</th>\n",
       "      <td>862</td>\n",
       "      <td>Toy Story</td>\n",
       "      <td>1995-10-30</td>\n",
       "      <td>30000000.0</td>\n",
       "      <td>373554033.0</td>\n",
       "      <td>12.451801</td>\n",
       "    </tr>\n",
       "    <tr>\n",
       "      <th>1</th>\n",
       "      <td>8844</td>\n",
       "      <td>Jumanji</td>\n",
       "      <td>1995-12-15</td>\n",
       "      <td>65000000.0</td>\n",
       "      <td>262797249.0</td>\n",
       "      <td>4.043035</td>\n",
       "    </tr>\n",
       "  </tbody>\n",
       "</table>\n",
       "</div>"
      ],
      "text/plain": [
       "     id      title release_date      budget      revenue     return\n",
       "0   862  Toy Story   1995-10-30  30000000.0  373554033.0  12.451801\n",
       "1  8844    Jumanji   1995-12-15  65000000.0  262797249.0   4.043035"
      ]
     },
     "execution_count": 36,
     "metadata": {},
     "output_type": "execute_result"
    }
   ],
   "source": [
    "# Selecciono las columnas que necesito para la funcion get_director\n",
    "columnas_necesarias2 = ['id', 'title','release_date','budget','revenue','return']\n",
    "df_necesario2 = df4[columnas_necesarias2]\n",
    "\n",
    "# Ver el DataFrame resultante\n",
    "df_necesario2.head(2)"
   ]
  },
  {
   "cell_type": "code",
   "execution_count": 37,
   "metadata": {},
   "outputs": [
    {
     "data": {
      "text/html": [
       "<div>\n",
       "<style scoped>\n",
       "    .dataframe tbody tr th:only-of-type {\n",
       "        vertical-align: middle;\n",
       "    }\n",
       "\n",
       "    .dataframe tbody tr th {\n",
       "        vertical-align: top;\n",
       "    }\n",
       "\n",
       "    .dataframe thead th {\n",
       "        text-align: right;\n",
       "    }\n",
       "</style>\n",
       "<table border=\"1\" class=\"dataframe\">\n",
       "  <thead>\n",
       "    <tr style=\"text-align: right;\">\n",
       "      <th></th>\n",
       "      <th>id</th>\n",
       "      <th>director</th>\n",
       "    </tr>\n",
       "  </thead>\n",
       "  <tbody>\n",
       "    <tr>\n",
       "      <th>0</th>\n",
       "      <td>862</td>\n",
       "      <td>John Lasseter</td>\n",
       "    </tr>\n",
       "    <tr>\n",
       "      <th>1</th>\n",
       "      <td>8844</td>\n",
       "      <td>Joe Johnston</td>\n",
       "    </tr>\n",
       "  </tbody>\n",
       "</table>\n",
       "</div>"
      ],
      "text/plain": [
       "     id       director\n",
       "0   862  John Lasseter\n",
       "1  8844   Joe Johnston"
      ]
     },
     "execution_count": 37,
     "metadata": {},
     "output_type": "execute_result"
    }
   ],
   "source": [
    "df_directores.head(2)"
   ]
  },
  {
   "cell_type": "code",
   "execution_count": 38,
   "metadata": {},
   "outputs": [
    {
     "data": {
      "text/html": [
       "<div>\n",
       "<style scoped>\n",
       "    .dataframe tbody tr th:only-of-type {\n",
       "        vertical-align: middle;\n",
       "    }\n",
       "\n",
       "    .dataframe tbody tr th {\n",
       "        vertical-align: top;\n",
       "    }\n",
       "\n",
       "    .dataframe thead th {\n",
       "        text-align: right;\n",
       "    }\n",
       "</style>\n",
       "<table border=\"1\" class=\"dataframe\">\n",
       "  <thead>\n",
       "    <tr style=\"text-align: right;\">\n",
       "      <th></th>\n",
       "      <th>id</th>\n",
       "      <th>director</th>\n",
       "      <th>title</th>\n",
       "      <th>release_date</th>\n",
       "      <th>budget</th>\n",
       "      <th>revenue</th>\n",
       "      <th>return</th>\n",
       "    </tr>\n",
       "  </thead>\n",
       "  <tbody>\n",
       "    <tr>\n",
       "      <th>0</th>\n",
       "      <td>862</td>\n",
       "      <td>John Lasseter</td>\n",
       "      <td>Toy Story</td>\n",
       "      <td>1995-10-30</td>\n",
       "      <td>30000000.0</td>\n",
       "      <td>373554033.0</td>\n",
       "      <td>12.451801</td>\n",
       "    </tr>\n",
       "    <tr>\n",
       "      <th>1</th>\n",
       "      <td>8844</td>\n",
       "      <td>Joe Johnston</td>\n",
       "      <td>Jumanji</td>\n",
       "      <td>1995-12-15</td>\n",
       "      <td>65000000.0</td>\n",
       "      <td>262797249.0</td>\n",
       "      <td>4.043035</td>\n",
       "    </tr>\n",
       "    <tr>\n",
       "      <th>2</th>\n",
       "      <td>15602</td>\n",
       "      <td>Howard Deutch</td>\n",
       "      <td>Grumpier Old Men</td>\n",
       "      <td>1995-12-22</td>\n",
       "      <td>0.0</td>\n",
       "      <td>0.0</td>\n",
       "      <td>0.000000</td>\n",
       "    </tr>\n",
       "  </tbody>\n",
       "</table>\n",
       "</div>"
      ],
      "text/plain": [
       "      id       director             title release_date      budget  \\\n",
       "0    862  John Lasseter         Toy Story   1995-10-30  30000000.0   \n",
       "1   8844   Joe Johnston           Jumanji   1995-12-15  65000000.0   \n",
       "2  15602  Howard Deutch  Grumpier Old Men   1995-12-22         0.0   \n",
       "\n",
       "       revenue     return  \n",
       "0  373554033.0  12.451801  \n",
       "1  262797249.0   4.043035  \n",
       "2          0.0   0.000000  "
      ]
     },
     "execution_count": 38,
     "metadata": {},
     "output_type": "execute_result"
    }
   ],
   "source": [
    "# Uno los DataFrames por la columna 'id' usando left join\n",
    "df_get_director = pd.merge(df_directores, df_necesario2, on='id', how='left')\n",
    "\n",
    "# Veo el DataFrame resultante\n",
    "df_get_director.head(3)"
   ]
  },
  {
   "cell_type": "code",
   "execution_count": 39,
   "metadata": {},
   "outputs": [],
   "source": [
    "df_necesario2.to_csv('df_para_get_director.csv')"
   ]
  },
  {
   "cell_type": "code",
   "execution_count": 42,
   "metadata": {},
   "outputs": [],
   "source": [
    "df_get_director.to_csv('df_para_funcion_get_director.csv')"
   ]
  },
  {
   "cell_type": "code",
   "execution_count": 43,
   "metadata": {},
   "outputs": [],
   "source": [
    "def get_director(nombre_director):\n",
    "    # Filtro el df para obtener solo las filas del director especificado\n",
    "    df_director = df_get_director[df_get_director['director'].str.lower() == nombre_director.lower()]\n",
    "    \n",
    "    # Calculo el retorno total\n",
    "    retorno_total = df_director['return'].sum()\n",
    "    \n",
    "    # Creo la lista de películas con la información solicitada\n",
    "    peliculas_info = [] #Iteramos sobre las filas del df filtrado para extraer la información de cada película y crear una lista de diccionarios peliculas_info.\n",
    "    for index, row in df_director.iterrows():\n",
    "        pelicula = {\n",
    "            'title': row['title'],\n",
    "            'release_date': row['release_date'],\n",
    "            'return': row['return'],\n",
    "            'budget': row['budget'],\n",
    "            'revenue': row['revenue']\n",
    "        }\n",
    "        peliculas_info.append(pelicula)\n",
    "    \n",
    "    # Formatear la información de las películas\n",
    "    peliculas_str = \"\\n\".join([f\"Película: {p['title']}, Fecha de lanzamiento: {p['release_date']}, Retorno: {p['return']}, Costo: {p['budget']}, Ganancia: {p['revenue']}\" for p in peliculas_info])\n",
    "    \n",
    "    # Formatear el resultado\n",
    "    resultado = (\n",
    "        f\"El director {nombre_director} ha conseguido un retorno total de {retorno_total}.\\n\"\n",
    "        f\"Ha dirigido las siguientes películas:\\n{peliculas_str}\"\n",
    "    )\n",
    "    \n",
    "    return resultado"
   ]
  },
  {
   "cell_type": "code",
   "execution_count": 44,
   "metadata": {},
   "outputs": [
    {
     "name": "stdout",
     "output_type": "stream",
     "text": [
      "El director Joe Johnston ha conseguido un retorno total de 12.985677228968255.\n",
      "Ha dirigido las siguientes películas:\n",
      "Película: Jumanji, Fecha de lanzamiento: 1995-12-15, Retorno: 4.0430346, Costo: 65000000.0, Ganancia: 262797249.0\n",
      "Película: The Pagemaster, Fecha de lanzamiento: 1994-11-23, Retorno: 0.5063217777777778, Costo: 27000000.0, Ganancia: 13670688.0\n",
      "Película: Honey, I Shrunk the Kids, Fecha de lanzamiento: 1989-06-22, Retorno: 6.960130375, Costo: 32000000.0, Ganancia: 222724172.0\n",
      "Película: The Rocketeer, Fecha de lanzamiento: 1991-06-21, Retorno: 1.4761904761904765, Costo: 42000000.0, Ganancia: 62000000.0\n"
     ]
    }
   ],
   "source": [
    "# Chequeo de la función\n",
    "nombre_director = 'Joe Johnston'\n",
    "resultado = get_director(nombre_director)\n",
    "print(resultado)"
   ]
  }
 ],
 "metadata": {
  "kernelspec": {
   "display_name": "Python 3",
   "language": "python",
   "name": "python3"
  },
  "language_info": {
   "codemirror_mode": {
    "name": "ipython",
    "version": 3
   },
   "file_extension": ".py",
   "mimetype": "text/x-python",
   "name": "python",
   "nbconvert_exporter": "python",
   "pygments_lexer": "ipython3",
   "version": "3.9.7"
  }
 },
 "nbformat": 4,
 "nbformat_minor": 2
}
