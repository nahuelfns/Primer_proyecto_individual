{
 "cells": [
  {
   "cell_type": "code",
   "execution_count": 1,
   "metadata": {},
   "outputs": [],
   "source": [
    "import pandas as pd"
   ]
  },
  {
   "cell_type": "code",
   "execution_count": 2,
   "metadata": {},
   "outputs": [],
   "source": [
    "df = pd.read_csv(r'C:\\Users\\nahue\\Searches\\Escritorio\\CARRERA HENRY\\Primer_proyecto_individual\\Datasets\\df_para_recomendacion.csv', low_memory=False)"
   ]
  },
  {
   "cell_type": "code",
   "execution_count": 3,
   "metadata": {},
   "outputs": [
    {
     "data": {
      "text/html": [
       "<div>\n",
       "<style scoped>\n",
       "    .dataframe tbody tr th:only-of-type {\n",
       "        vertical-align: middle;\n",
       "    }\n",
       "\n",
       "    .dataframe tbody tr th {\n",
       "        vertical-align: top;\n",
       "    }\n",
       "\n",
       "    .dataframe thead th {\n",
       "        text-align: right;\n",
       "    }\n",
       "</style>\n",
       "<table border=\"1\" class=\"dataframe\">\n",
       "  <thead>\n",
       "    <tr style=\"text-align: right;\">\n",
       "      <th></th>\n",
       "      <th>vote_average</th>\n",
       "      <th>title</th>\n",
       "    </tr>\n",
       "  </thead>\n",
       "  <tbody>\n",
       "    <tr>\n",
       "      <th>0</th>\n",
       "      <td>7.7</td>\n",
       "      <td>Toy Story</td>\n",
       "    </tr>\n",
       "    <tr>\n",
       "      <th>1</th>\n",
       "      <td>6.9</td>\n",
       "      <td>Jumanji</td>\n",
       "    </tr>\n",
       "    <tr>\n",
       "      <th>2</th>\n",
       "      <td>6.5</td>\n",
       "      <td>Grumpier Old Men</td>\n",
       "    </tr>\n",
       "  </tbody>\n",
       "</table>\n",
       "</div>"
      ],
      "text/plain": [
       "   vote_average             title\n",
       "0           7.7         Toy Story\n",
       "1           6.9           Jumanji\n",
       "2           6.5  Grumpier Old Men"
      ]
     },
     "execution_count": 3,
     "metadata": {},
     "output_type": "execute_result"
    }
   ],
   "source": [
    "df.head(3)"
   ]
  },
  {
   "cell_type": "markdown",
   "metadata": {},
   "source": [
    "### Para hacer la función tuve que investigar varias cosas:\n",
    "Vectorización TF-IDF: es una técnica comúnmente utilizada en el procesamiento del lenguaje natural (NLP) para convertir un conjunto de documentos de texto en una matriz de características numéricas. TF-IDF significa Term Frequency-Inverse Document Frequency (Frecuencia de Término-Frecuencia Inversa de Documento).\n",
    "\n",
    "#### Frecuencia de Término (TF):\n",
    "\n",
    "La Frecuencia de Término mide la frecuencia con la que una palabra aparece en un documento en comparación con el total de palabras en ese documento. Se calcula como:\n",
    "\n",
    "(Número de veces que el término aparece en el documento)/(Número total de términos en el documento)\n",
    "\n",
    "Ej: \"El gato come pescado\" el TF de cada palabra es 0.25 ya que cada termino aparece una vez y el total de terminos son cuatro (1/4)\n",
    "    \"El perro come carne\" el TF es igual al anterior.\n",
    "\n",
    "#### Frecuencia Inversa de Documento (IDF):\n",
    "\n",
    "La Frecuencia Inversa de Documento mide la importancia de una palabra en el conjunto de documentos. La idea es que las palabras que aparecen en muchos documentos no son muy útiles para diferenciar entre documentos. Se calcula como:\n",
    "\n",
    "log({Número total de documentos}/{Número de documentos que contienen el término})\n",
    "\n",
    "Ej: Si tomamos gato, perro, pescado y carne el IDF es log 2/1 = 0.3.\n",
    "    Si tomamos El y come el IDF es log 2/2 = 0\n",
    "\n",
    "Finalmente se calcula TF-IDF multiplicando TF x IDF:\n",
    "Ej: para gato, perro, pescado y carne: 0.25 * 0.3 = 0.075,\n",
    "    mientras que para El y come: 0.25 * 0 = 0\n",
    "\n",
    "Lo que se concluye es que a mayor aparición de una misma palabra en distintos documentos, menos relevante es para caracterizar algún contenido."
   ]
  },
  {
   "cell_type": "code",
   "execution_count": 20,
   "metadata": {},
   "outputs": [],
   "source": [
    "#Ejemplo de la aplicación en la función para entender los pasos:\n",
    "\n",
    "#Invento una base de datos pequeña:\n",
    "pelis = {'titulo': [\"The lion king\", \"The book of the jungle\", \"The white lion\"]}\n",
    "df_pelis = pd.DataFrame(pelis)"
   ]
  },
  {
   "cell_type": "code",
   "execution_count": 23,
   "metadata": {},
   "outputs": [
    {
     "data": {
      "text/plain": [
       "array([[0.        , 0.        , 0.79596054, 0.60534851, 0.        ],\n",
       "       [0.70710678, 0.70710678, 0.        , 0.        , 0.        ],\n",
       "       [0.        , 0.        , 0.        , 0.60534851, 0.79596054]])"
      ]
     },
     "execution_count": 23,
     "metadata": {},
     "output_type": "execute_result"
    }
   ],
   "source": [
    "from sklearn.feature_extraction.text import TfidfVectorizer\n",
    "\n",
    "#TfidfVectorizer: Esta clase convierte una colección de documentos en una matriz de características TF-IDF, que nos ayuda a medir \n",
    "#la importancia de las palabras en los títulos de las películas.\n",
    "\n",
    "tfidf_pelis = TfidfVectorizer(stop_words='english') #Creamos una instancia de TfidfVectorizer e indicamos que ignore las palabras comunes en inglés (the, of) con stop_words\n",
    "tfidf_pelis_matrix = tfidf_pelis.fit_transform(df_pelis['titulo'])#Aplicamos la vectorización TF-IDF a los títulos de las películas\n",
    "tfidf_pelis_matrix.toarray()\n",
    "#El resultado es una matriz en la que cada fila representa un título y cada columna representa una palabra, con valores que indican \n",
    "#la importancia de cada palabra en el título correspondiente."
   ]
  },
  {
   "cell_type": "code",
   "execution_count": 25,
   "metadata": {},
   "outputs": [
    {
     "data": {
      "text/plain": [
       "array([[1.        , 0.        , 0.36644682],\n",
       "       [0.        , 1.        , 0.        ],\n",
       "       [0.36644682, 0.        , 1.        ]])"
      ]
     },
     "execution_count": 25,
     "metadata": {},
     "output_type": "execute_result"
    }
   ],
   "source": [
    "#Analisis de similitud del coseno\n",
    "from sklearn.metrics.pairwise import linear_kernel #linear_kernel calcula la similitud del coseno entre vectores\n",
    "\n",
    "cosine_sim = linear_kernel(tfidf_pelis_matrix, tfidf_pelis_matrix)\n",
    "cosine_sim\n",
    "\n",
    "#La primer fila y columna es la misma pelicula, y lo mismo con las filas 2 y 3. Por eso se forma la diagonal con 1.\n",
    "#Donde la similitud es 1, es el mismo título; donde es 0 los títulos no comparten nada; el valor 0.366 es porque comparten la palabra 'lion'"
   ]
  },
  {
   "cell_type": "markdown",
   "metadata": {},
   "source": [
    "## Así queda la función para recomendación de películas"
   ]
  },
  {
   "cell_type": "code",
   "execution_count": 5,
   "metadata": {},
   "outputs": [
    {
     "name": "stdout",
     "output_type": "stream",
     "text": [
      "Películas recomendadas: ['At Ellen’s Age', 'My Foolish Heart', \"If God Is Willing and da Creek Don't Rise\", 'Truckfighters', 'Christopher Titus: Angry Pursuit of Happiness']\n"
     ]
    }
   ],
   "source": [
    "from sklearn.feature_extraction.text import TfidfVectorizer\n",
    "from sklearn.metrics.pairwise import linear_kernel\n",
    "from sklearn.preprocessing import StandardScaler\n",
    "import numpy as np\n",
    "\n",
    "# Vectorizamos los títulos\n",
    "tfidf = TfidfVectorizer(stop_words='english')\n",
    "tfidf_matriz = tfidf.fit_transform(df['title'].str.lower())\n",
    "\n",
    "# Realizamos el análisis de similitud de los títulos\n",
    "sim_coseno = linear_kernel(tfidf_matriz, tfidf_matriz)\n",
    "\n",
    "# Normalizamos la columna 'vote_average' para facilitar la combinación de las métricas de títulos y votos\n",
    "scaler = StandardScaler()\n",
    "votos_norm = scaler.fit_transform(df[['vote_average']])\n",
    "\n",
    "# Función para recomendar películas basadas en un índice de película dada:\n",
    "\n",
    "def recomendacion(titulo: str):\n",
    "    titulo = titulo.lower()\n",
    "    \n",
    "    idx = df[df['title'].str.lower() == titulo].index[0]#Encontramos el índice de la película cuyo título coincide con el proporcionado.\n",
    "    sim_scores = list(enumerate(sim_coseno[idx]))#se crea una lista de tuplas donde cada tupla contiene un índice de película y su puntuación de similitud de títulos con la película dada.\n",
    "\n",
    "    # Para incluir la similitud de votos en el cálculo:\n",
    "    # En este paso ajustamos las puntuaciones de similitud para incluir tanto la similitud de títulos como la similitud de votos.\n",
    "    # sim_scores se actualiza para que cada tupla contenga el índice de la película y una puntuación combinada.\n",
    "    sim_scores = [(i, score * 0.5 + votos_norm[i] * 0.5 + np.random.normal(0, 0.01)) for i, score in sim_scores]#score * 0.5 y votos_norm[i] * 0.5 ponderan igualmente la similitud de títulos y la puntuación de votos\n",
    "    #El np.random.normal añade ruido aleatorio a la recomendacion ya que sin él, la función recomienda prácticamente las mismas películas\n",
    "    \n",
    "    \n",
    "    #Para ordenar las películas por similitud:\n",
    "    sim_scores = sorted(sim_scores, key=lambda x: x[1], reverse=True)\n",
    "    #Las películas se ordenan por sus puntuaciones combinadas en orden descendente, de modo que las películas más similares \n",
    "    #(tanto en título como en votos) estén al principio de la lista.\n",
    "   \n",
    "    sim_scores = sim_scores[1:6]  # así obtenemos las 5 películas más similares omitiendo la primera ya que es la misma que se usó como referencia\n",
    "    pelicula_indices = [i[0] for i in sim_scores]#extraemos los indices de peliculas similares.\n",
    "\n",
    "    return df['title'].iloc[pelicula_indices].values.tolist() #devuelve los títulos de las películas recomendadas, utilizando los índices almacenados en pelicula_indices\n",
    "\n",
    "titulo_pelicula = 'assassins'\n",
    "recomendaciones = recomendacion(titulo_pelicula)\n",
    "print(\"Películas recomendadas:\", recomendaciones)\n"
   ]
  }
 ],
 "metadata": {
  "kernelspec": {
   "display_name": "Python 3",
   "language": "python",
   "name": "python3"
  },
  "language_info": {
   "codemirror_mode": {
    "name": "ipython",
    "version": 3
   },
   "file_extension": ".py",
   "mimetype": "text/x-python",
   "name": "python",
   "nbconvert_exporter": "python",
   "pygments_lexer": "ipython3",
   "version": "3.9.7"
  }
 },
 "nbformat": 4,
 "nbformat_minor": 2
}
